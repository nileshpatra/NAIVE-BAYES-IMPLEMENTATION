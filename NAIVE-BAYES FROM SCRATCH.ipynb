{
 "cells": [
  {
   "cell_type": "code",
   "execution_count": 1,
   "metadata": {},
   "outputs": [],
   "source": [
    "#importing python libraries\n",
    "from sklearn import datasets\n",
    "import numpy as np\n",
    "from sklearn.model_selection import train_test_split\n",
    "from sklearn.metrics import classification_report , confusion_matrix\n",
    "from sklearn.metrics import accuracy_score"
   ]
  },
  {
   "cell_type": "markdown",
   "metadata": {},
   "source": [
    "# IMPLEMENTING NAIVE BAYES FROM SCRATCH\n"
   ]
  },
  {
   "cell_type": "code",
   "execution_count": 2,
   "metadata": {},
   "outputs": [],
   "source": [
    "#fit function\n",
    "#we made a 3 level dictionary of dictionaries\n",
    "#in the first level we stored the class\n",
    "#in the second , we stored the feature\n",
    "#in the third , we stored the possible values of feature ,  and corresponding count of those features\n",
    "def fit(X_train , Y_train):\n",
    "    res = {}\n",
    "    classes = set(Y_train)\n",
    "    for ai in classes:\n",
    "        res[ai] = {}\n",
    "        true_vals = (Y_train == ai)\n",
    "        res['total_data'] = len(Y_train)\n",
    "        X_train_class = X_train[true_vals]\n",
    "        Y_train_class = Y_train[true_vals]\n",
    "        res[ai]['cnt'] = len(Y_train_class)\n",
    "        num_features = X_train.shape[1]\n",
    "        for j in range(1 , num_features + 1):\n",
    "            res[ai][j] = {}\n",
    "            distinct_values = set(X_train[: , j - 1])\n",
    "            for val in distinct_values:\n",
    "                res[ai][j][val]  = (X_train_class[: , j - 1] == val).sum()\n",
    "    return res"
   ]
  },
  {
   "cell_type": "code",
   "execution_count": 3,
   "metadata": {},
   "outputs": [],
   "source": [
    "#calculating probability for one point\n",
    "\n",
    "def probability(res , x , class_value):\n",
    "    output = np.log(res[class_value]['cnt'])  -  np.log(res['total_data'])\n",
    "    num_features = len(res[class_value].keys()) - 1\n",
    "    for j in range(1 , num_features + 1):\n",
    "        xj = x[j - 1]\n",
    "        num_with_ai_and_data_xj = res[class_value][j][xj] + 1\n",
    "        class_count_curr = res[class_value]['cnt'] + len(res[class_value][j].keys())\n",
    "        prob = np.log(num_with_ai_and_data_xj) - np.log(class_count_curr)\n",
    "        output = output + prob\n",
    "    return output"
   ]
  },
  {
   "cell_type": "code",
   "execution_count": 4,
   "metadata": {},
   "outputs": [],
   "source": [
    "def predict_for_one_data(res , x):\n",
    "    best_probability = -1000\n",
    "    best_class = -1\n",
    "    classes = res.keys()\n",
    "    run = True\n",
    "    for cls in classes:\n",
    "        if cls == 'total_data':\n",
    "            continue\n",
    "        prob = probability(res , x , cls)\n",
    "        if run or best_probability < prob :\n",
    "            best_probability = prob\n",
    "            best_class = cls\n",
    "        run = False\n",
    "    return best_class"
   ]
  },
  {
   "cell_type": "code",
   "execution_count": 5,
   "metadata": {},
   "outputs": [],
   "source": [
    "#predict function\n",
    "def predict(res , x):\n",
    "    y_pred = []\n",
    "    for xj in x:\n",
    "        single_class = predict_for_one_data(res , xj)\n",
    "        y_pred.append(single_class)\n",
    "    return y_pred"
   ]
  },
  {
   "cell_type": "code",
   "execution_count": 6,
   "metadata": {},
   "outputs": [],
   "source": [
    "iris = datasets.load_iris()"
   ]
  },
  {
   "cell_type": "code",
   "execution_count": 7,
   "metadata": {},
   "outputs": [],
   "source": [
    "X = iris.data\n",
    "Y = iris.target"
   ]
  },
  {
   "cell_type": "code",
   "execution_count": 8,
   "metadata": {},
   "outputs": [],
   "source": [
    "#making iris data as labelled\n",
    "def makelabelled(columns):\n",
    "    second_div = columns.mean()\n",
    "    first_div = 0.5*second_div\n",
    "    third_div = 1.5*second_div\n",
    "    for i in range(len(columns)) :\n",
    "        if columns[i] < first_div :\n",
    "            columns[i] = 0\n",
    "        elif columns[i] < second_div :\n",
    "            columns[i] = 1\n",
    "        elif columns[i] < third_div :\n",
    "            columns[i] = 2\n",
    "        else:\n",
    "            columns[i] = 3\n",
    "    return columns"
   ]
  },
  {
   "cell_type": "code",
   "execution_count": 9,
   "metadata": {},
   "outputs": [],
   "source": [
    "for i in range(0 , X.shape[-1]):\n",
    "    X[: , i] = makelabelled(X[: , i])"
   ]
  },
  {
   "cell_type": "code",
   "execution_count": 10,
   "metadata": {},
   "outputs": [],
   "source": [
    "from sklearn.model_selection import train_test_split\n",
    "X_train , X_test , Y_train , Y_test = train_test_split(X ,Y ,random_state = 0)"
   ]
  },
  {
   "cell_type": "code",
   "execution_count": 11,
   "metadata": {},
   "outputs": [],
   "source": [
    "res = fit(X_train , Y_train)"
   ]
  },
  {
   "cell_type": "code",
   "execution_count": 12,
   "metadata": {},
   "outputs": [],
   "source": [
    "Y_pred = predict(res , X_test)"
   ]
  },
  {
   "cell_type": "code",
   "execution_count": 13,
   "metadata": {},
   "outputs": [
    {
     "name": "stdout",
     "output_type": "stream",
     "text": [
      "             precision    recall  f1-score   support\n",
      "\n",
      "          0       1.00      1.00      1.00        13\n",
      "          1       1.00      0.94      0.97        17\n",
      "          2       0.89      1.00      0.94         8\n",
      "\n",
      "avg / total       0.98      0.97      0.97        38\n",
      "\n",
      "[[13  0  0]\n",
      " [ 0 16  1]\n",
      " [ 0  0  8]]\n",
      "0.9736842105263158\n"
     ]
    }
   ],
   "source": [
    "# accuracy of our algo\n",
    "print(classification_report(Y_pred , Y_test))\n",
    "print(confusion_matrix(Y_pred , Y_test))\n",
    "print(accuracy_score(Y_pred , Y_test))"
   ]
  },
  {
   "cell_type": "code",
   "execution_count": 14,
   "metadata": {},
   "outputs": [
    {
     "name": "stdout",
     "output_type": "stream",
     "text": [
      "             precision    recall  f1-score   support\n",
      "\n",
      "          0       0.85      1.00      0.92        11\n",
      "          1       1.00      0.76      0.86        21\n",
      "          2       0.67      1.00      0.80         6\n",
      "\n",
      "avg / total       0.90      0.87      0.87        38\n",
      "\n",
      "[[11  0  0]\n",
      " [ 2 16  3]\n",
      " [ 0  0  6]]\n",
      "0.868421052631579\n"
     ]
    }
   ],
   "source": [
    "#implementing gaussian naive bayes and comaring accuracy\n",
    "\n",
    "from sklearn.naive_bayes import GaussianNB\n",
    "clf = GaussianNB()\n",
    "clf.fit(X_train , Y_train)\n",
    "prediction = clf.predict(X_test)\n",
    "print(classification_report(prediction , Y_test))\n",
    "print(confusion_matrix(prediction , Y_test))\n",
    "print(accuracy_score(prediction , Y_test))"
   ]
  }
 ],
 "metadata": {
  "kernelspec": {
   "display_name": "Python 3",
   "language": "python",
   "name": "python3"
  },
  "language_info": {
   "codemirror_mode": {
    "name": "ipython",
    "version": 3
   },
   "file_extension": ".py",
   "mimetype": "text/x-python",
   "name": "python",
   "nbconvert_exporter": "python",
   "pygments_lexer": "ipython3",
   "version": "3.6.5"
  }
 },
 "nbformat": 4,
 "nbformat_minor": 2
}
